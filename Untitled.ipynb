{
 "cells": [
  {
   "cell_type": "code",
   "execution_count": 1,
   "id": "2e281ec7-17b8-4923-b5fa-5abfec2a11c9",
   "metadata": {},
   "outputs": [
    {
     "ename": "ModuleNotFoundError",
     "evalue": "No module named 'faker'",
     "output_type": "error",
     "traceback": [
      "\u001b[1;31m---------------------------------------------------------------------------\u001b[0m",
      "\u001b[1;31mModuleNotFoundError\u001b[0m                       Traceback (most recent call last)",
      "Cell \u001b[1;32mIn[1], line 3\u001b[0m\n\u001b[0;32m      1\u001b[0m \u001b[38;5;66;03m# utils.py\u001b[39;00m\n\u001b[0;32m      2\u001b[0m \u001b[38;5;28;01mimport\u001b[39;00m \u001b[38;5;21;01mpandas\u001b[39;00m \u001b[38;5;28;01mas\u001b[39;00m \u001b[38;5;21;01mpd\u001b[39;00m\n\u001b[1;32m----> 3\u001b[0m \u001b[38;5;28;01mfrom\u001b[39;00m \u001b[38;5;21;01mfaker\u001b[39;00m \u001b[38;5;28;01mimport\u001b[39;00m Faker\n\u001b[0;32m      4\u001b[0m \u001b[38;5;28;01mimport\u001b[39;00m \u001b[38;5;21;01mrandom\u001b[39;00m\n\u001b[0;32m      6\u001b[0m \u001b[38;5;28;01mdef\u001b[39;00m \u001b[38;5;21mgenerate_patients_csv\u001b[39m(filename\u001b[38;5;241m=\u001b[39m\u001b[38;5;124m\"\u001b[39m\u001b[38;5;124mpatients_sample_50.csv\u001b[39m\u001b[38;5;124m\"\u001b[39m):\n",
      "\u001b[1;31mModuleNotFoundError\u001b[0m: No module named 'faker'"
     ]
    }
   ],
   "source": [
    "# utils.py\n",
    "import pandas as pd\n",
    "from faker import Faker\n",
    "import random\n",
    "\n",
    "def generate_patients_csv(filename=\"patients_sample_50.csv\"):\n",
    "    fake = Faker()\n",
    "    doctors = [\"Dr. Patel\", \"Dr. Singh\", \"Dr. Mehra\", \"Dr. Kapoor\"]\n",
    "\n",
    "    patients = []\n",
    "    for i in range(1, 51):\n",
    "        patients.append({\n",
    "            \"patient_id\": i,\n",
    "            \"first_name\": fake.first_name(),\n",
    "            \"last_name\": fake.last_name(),\n",
    "            \"dob\": fake.date_of_birth(minimum_age=1, maximum_age=90),\n",
    "            \"email\": fake.email(),\n",
    "            \"phone\": fake.phone_number(),\n",
    "            \"preferred_doctor\": random.choice(doctors),\n",
    "            \"location\": fake.city()\n",
    "        })\n",
    "\n",
    "    df_patients = pd.DataFrame(patients)\n",
    "    df_patients.to_csv(filename, index=False)\n",
    "    return df_patients\n"
   ]
  },
  {
   "cell_type": "code",
   "execution_count": null,
   "id": "f09c781c-4b40-44d8-b59a-453cbe47574f",
   "metadata": {},
   "outputs": [],
   "source": []
  }
 ],
 "metadata": {
  "kernelspec": {
   "display_name": "Python 3 (ipykernel)",
   "language": "python",
   "name": "python3"
  },
  "language_info": {
   "codemirror_mode": {
    "name": "ipython",
    "version": 3
   },
   "file_extension": ".py",
   "mimetype": "text/x-python",
   "name": "python",
   "nbconvert_exporter": "python",
   "pygments_lexer": "ipython3",
   "version": "3.12.4"
  }
 },
 "nbformat": 4,
 "nbformat_minor": 5
}
